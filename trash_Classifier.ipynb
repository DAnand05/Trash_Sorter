{
  "nbformat": 4,
  "nbformat_minor": 0,
  "metadata": {
    "colab": {
      "provenance": [],
      "gpuType": "T4",
      "authorship_tag": "ABX9TyN3sGrkL+QsNFvoY04ID8WX",
      "include_colab_link": true
    },
    "kernelspec": {
      "name": "python3",
      "display_name": "Python 3"
    },
    "language_info": {
      "name": "python"
    },
    "accelerator": "GPU"
  },
  "cells": [
    {
      "cell_type": "markdown",
      "metadata": {
        "id": "view-in-github",
        "colab_type": "text"
      },
      "source": [
        "<a href=\"https://colab.research.google.com/github/DAnand05/DAnand05/blob/main/trash_Classifier.ipynb\" target=\"_parent\"><img src=\"https://colab.research.google.com/assets/colab-badge.svg\" alt=\"Open In Colab\"/></a>"
      ]
    },
    {
      "cell_type": "code",
      "execution_count": 3,
      "metadata": {
        "id": "2lr-astymhA3",
        "colab": {
          "base_uri": "https://localhost:8080/"
        },
        "outputId": "3f861cd7-296d-48ee-f226-23ef62515e03"
      },
      "outputs": [
        {
          "output_type": "stream",
          "name": "stdout",
          "text": [
            "Drive already mounted at /content/drive; to attempt to forcibly remount, call drive.mount(\"/content/drive\", force_remount=True).\n"
          ]
        }
      ],
      "source": [
        "from google.colab import drive\n",
        "drive.mount(\"/content/drive\")"
      ]
    },
    {
      "cell_type": "markdown",
      "source": [],
      "metadata": {
        "id": "6284UiEpdV49"
      }
    },
    {
      "cell_type": "code",
      "source": [
        "!ls /content/drive/MyDrive/trashnet.zip\n"
      ],
      "metadata": {
        "id": "7lspU2rxmiNw",
        "colab": {
          "base_uri": "https://localhost:8080/"
        },
        "outputId": "b968efe7-f0b6-4371-e74f-e98ad2a6c6d0"
      },
      "execution_count": 4,
      "outputs": [
        {
          "output_type": "stream",
          "name": "stdout",
          "text": [
            "/content/drive/MyDrive/trashnet.zip\n"
          ]
        }
      ]
    },
    {
      "cell_type": "code",
      "source": [
        "import zipfile\n",
        "zip_ref = zipfile.ZipFile('/content/drive/MyDrive/trashnet.zip','r')\n",
        "zip_ref.extractall('/content')\n",
        "zip_ref.close()"
      ],
      "metadata": {
        "id": "HWv__sRgmlXg"
      },
      "execution_count": 5,
      "outputs": []
    },
    {
      "cell_type": "code",
      "source": [
        "import tensorflow as tf\n",
        "from tensorflow import keras\n",
        "from tensorflow.keras.preprocessing.image import ImageDataGenerator\n",
        "from tensorflow.keras.applications import VGG16\n",
        "from tensorflow.keras.layers import Flatten, Dense"
      ],
      "metadata": {
        "id": "gY9G-XRQmoBC"
      },
      "execution_count": 6,
      "outputs": []
    },
    {
      "cell_type": "code",
      "source": [
        "# Data directories\n",
        "train_dir = \"/content/data/train\"\n",
        "val_dir = \"/content/data/test\"\n",
        "test_dir = \"/content/data/test\"  # Optional for final evaluation\n",
        "\n"
      ],
      "metadata": {
        "id": "gMPM6qICmt-B"
      },
      "execution_count": 7,
      "outputs": []
    },
    {
      "cell_type": "code",
      "source": [
        "# Image size for preprocessing\n",
        "img_width, img_height = 224, 224\n"
      ],
      "metadata": {
        "id": "SrXvgxGx3iSr"
      },
      "execution_count": 8,
      "outputs": []
    },
    {
      "cell_type": "code",
      "source": [
        "# Data augmentation configuration\n",
        "datagen = ImageDataGenerator(\n",
        "    rescale=1./255,  # Normalize pixel values\n",
        "    shear_range=0.2,\n",
        "    zoom_range=0.2,\n",
        "    horizontal_flip=True,\n",
        "    rotation_range=20,\n",
        "    fill_mode=\"nearest\"\n",
        ")\n"
      ],
      "metadata": {
        "id": "SO5FAKXw3eXW"
      },
      "execution_count": 9,
      "outputs": []
    },
    {
      "cell_type": "code",
      "source": [
        "# Train data generator with augmentation\n",
        "train_datagen = datagen.flow_from_directory(\n",
        "    train_dir,\n",
        "    target_size=(img_width, img_height),\n",
        "    batch_size=32,  # Adjust batch size based on GPU memory\n",
        "    class_mode=\"categorical\"  # Multi-class classification\n",
        ")\n",
        "\n",
        "# Validation data generator (no augmentation)\n",
        "val_datagen = datagen.flow_from_directory(\n",
        "    val_dir,\n",
        "    target_size=(img_width, img_height),\n",
        "    batch_size=32,\n",
        "    class_mode=\"categorical\"\n",
        ")\n"
      ],
      "metadata": {
        "id": "iMAM5GLR3a1m",
        "colab": {
          "base_uri": "https://localhost:8080/"
        },
        "outputId": "eb401234-6464-4c8a-bb8a-6f078dc39144"
      },
      "execution_count": 10,
      "outputs": [
        {
          "output_type": "stream",
          "name": "stdout",
          "text": [
            "Found 2019 images belonging to 6 classes.\n",
            "Found 508 images belonging to 6 classes.\n"
          ]
        }
      ]
    },
    {
      "cell_type": "code",
      "source": [
        "# Pre-trained VGG16 model (include weights='imagenet')\n",
        "base_model = VGG16(weights=\"imagenet\", include_top=False, input_shape=(img_width, img_height, 3))\n",
        "base_model.trainable = False  # Freeze base model layers\n"
      ],
      "metadata": {
        "id": "bCkvJOL_3Uwz"
      },
      "execution_count": 11,
      "outputs": []
    },
    {
      "cell_type": "code",
      "source": [
        "# Add custom classification layers\n",
        "x = base_model.output\n",
        "x = Flatten()(x)\n",
        "x = Dense(1024, activation=\"relu\")(x)  # Experiment with different neuron numbers\n",
        "predictions = Dense(6, activation=\"softmax\")(x)  # Output layer for 6 trash classes\n"
      ],
      "metadata": {
        "id": "P9Wy7g8B3R-O"
      },
      "execution_count": 12,
      "outputs": []
    },
    {
      "cell_type": "code",
      "source": [
        "# Add custom classification layers\n",
        "x = base_model.output\n",
        "x = Flatten()(x)\n",
        "x = Dense(1024, activation=\"relu\")(x)  # Experiment with different neuron numbers\n",
        "predictions = Dense(6, activation=\"softmax\")(x)  # Output layer for 6 trash classes"
      ],
      "metadata": {
        "id": "tq69ARmE12Qn"
      },
      "execution_count": 13,
      "outputs": []
    },
    {
      "cell_type": "code",
      "source": [
        "# Create the final model\n",
        "model = keras.Model(inputs=base_model.input, outputs=predictions)\n",
        "\n"
      ],
      "metadata": {
        "id": "aEtj2f5e1yHT"
      },
      "execution_count": 14,
      "outputs": []
    },
    {
      "cell_type": "code",
      "source": [
        "# Model compilation (adjust learning rate, optimizer based on hyperparameter tuning)\n",
        "model.compile(loss=\"categorical_crossentropy\",\n",
        "              optimizer=keras.optimizers.Adam(learning_rate=0.0001),\n",
        "              metrics=[\"accuracy\"])"
      ],
      "metadata": {
        "id": "IHeLB1dj1tIB"
      },
      "execution_count": 15,
      "outputs": []
    },
    {
      "cell_type": "code",
      "source": [
        "# Model training\n",
        "history = model.fit(\n",
        "    train_datagen,\n",
        "    steps_per_epoch=len(train_datagen),  # Adjust based on training data size\n",
        "    epochs=20,  # Adjust epochs based on validation results\n",
        "    validation_data=val_datagen,\n",
        "    validation_steps=len(val_datagen)  # Adjust based on validation data size\n",
        ")"
      ],
      "metadata": {
        "id": "qev_4hVYnp6j",
        "colab": {
          "base_uri": "https://localhost:8080/"
        },
        "outputId": "0c09ea09-1593-4a1e-ba81-e2c9ac369542"
      },
      "execution_count": 17,
      "outputs": [
        {
          "output_type": "stream",
          "name": "stdout",
          "text": [
            "Epoch 1/20\n",
            "64/64 [==============================] - 53s 831ms/step - loss: 1.0105 - accuracy: 0.6092 - val_loss: 1.1497 - val_accuracy: 0.5650\n",
            "Epoch 2/20\n",
            "64/64 [==============================] - 38s 599ms/step - loss: 0.7509 - accuracy: 0.7172 - val_loss: 0.9145 - val_accuracy: 0.6909\n",
            "Epoch 3/20\n",
            "64/64 [==============================] - 38s 590ms/step - loss: 0.6220 - accuracy: 0.7712 - val_loss: 0.9052 - val_accuracy: 0.7087\n",
            "Epoch 4/20\n",
            "64/64 [==============================] - 40s 622ms/step - loss: 0.4822 - accuracy: 0.8232 - val_loss: 0.9465 - val_accuracy: 0.6713\n",
            "Epoch 5/20\n",
            "64/64 [==============================] - 41s 637ms/step - loss: 0.4532 - accuracy: 0.8415 - val_loss: 1.0800 - val_accuracy: 0.6673\n",
            "Epoch 6/20\n",
            "64/64 [==============================] - 41s 642ms/step - loss: 0.3957 - accuracy: 0.8583 - val_loss: 0.9544 - val_accuracy: 0.7165\n",
            "Epoch 7/20\n",
            "64/64 [==============================] - 38s 601ms/step - loss: 0.3752 - accuracy: 0.8697 - val_loss: 0.9786 - val_accuracy: 0.6969\n",
            "Epoch 8/20\n",
            "64/64 [==============================] - 41s 637ms/step - loss: 0.3168 - accuracy: 0.8995 - val_loss: 0.9152 - val_accuracy: 0.7165\n",
            "Epoch 9/20\n",
            "64/64 [==============================] - 39s 617ms/step - loss: 0.2896 - accuracy: 0.9024 - val_loss: 0.9309 - val_accuracy: 0.7067\n",
            "Epoch 10/20\n",
            "64/64 [==============================] - 37s 583ms/step - loss: 0.2498 - accuracy: 0.9173 - val_loss: 1.0229 - val_accuracy: 0.7008\n",
            "Epoch 11/20\n",
            "64/64 [==============================] - 37s 579ms/step - loss: 0.2608 - accuracy: 0.9094 - val_loss: 0.9789 - val_accuracy: 0.7126\n",
            "Epoch 12/20\n",
            "64/64 [==============================] - 38s 598ms/step - loss: 0.2289 - accuracy: 0.9217 - val_loss: 0.9515 - val_accuracy: 0.7402\n",
            "Epoch 13/20\n",
            "64/64 [==============================] - 38s 589ms/step - loss: 0.1983 - accuracy: 0.9401 - val_loss: 0.9450 - val_accuracy: 0.7402\n",
            "Epoch 14/20\n",
            "64/64 [==============================] - 38s 590ms/step - loss: 0.2151 - accuracy: 0.9252 - val_loss: 1.0623 - val_accuracy: 0.7244\n",
            "Epoch 15/20\n",
            "64/64 [==============================] - 36s 558ms/step - loss: 0.1655 - accuracy: 0.9539 - val_loss: 0.9767 - val_accuracy: 0.7362\n",
            "Epoch 16/20\n",
            "64/64 [==============================] - 37s 576ms/step - loss: 0.1459 - accuracy: 0.9629 - val_loss: 1.0000 - val_accuracy: 0.7441\n",
            "Epoch 17/20\n",
            "64/64 [==============================] - 37s 577ms/step - loss: 0.1609 - accuracy: 0.9485 - val_loss: 1.0762 - val_accuracy: 0.7106\n",
            "Epoch 18/20\n",
            "64/64 [==============================] - 36s 561ms/step - loss: 0.1634 - accuracy: 0.9455 - val_loss: 1.1792 - val_accuracy: 0.7047\n",
            "Epoch 19/20\n",
            "64/64 [==============================] - 40s 632ms/step - loss: 0.1695 - accuracy: 0.9445 - val_loss: 1.1285 - val_accuracy: 0.6929\n",
            "Epoch 20/20\n",
            "64/64 [==============================] - 37s 575ms/step - loss: 0.1706 - accuracy: 0.9425 - val_loss: 0.9543 - val_accuracy: 0.7520\n"
          ]
        }
      ]
    },
    {
      "cell_type": "code",
      "source": [
        "import tensorflow as tf\n",
        "from tensorflow.keras.models import Sequential\n",
        "from tensorflow.keras.layers import Dense, Dropout, Flatten\n",
        "from tensorflow.keras.layers import Conv2D, MaxPooling2D\n",
        "from tensorflow.keras.utils import to_categorical\n",
        "from sklearn.model_selection import GridSearchCV"
      ],
      "metadata": {
        "id": "XIDw420_WjpD"
      },
      "execution_count": 18,
      "outputs": []
    },
    {
      "cell_type": "code",
      "source": [
        "#Visualizing results\n",
        "\n",
        "import matplotlib.pyplot as plt\n",
        "\n",
        "\n",
        "train_loss = history.history['loss']\n",
        "val_loss = history.history['val_loss']\n",
        "train_acc = history.history['accuracy']\n",
        "val_acc = history.history['val_accuracy']\n",
        "\n",
        "# Loss curve\n",
        "plt.plot(train_loss, label='Training Loss')\n",
        "plt.plot(val_loss, label='Validation Loss')\n",
        "plt.title('Training and Validation Loss')\n",
        "plt.xlabel('Epoch')\n",
        "plt.ylabel('Loss')\n",
        "plt.legend()\n",
        "plt.show()\n",
        "\n",
        "# Accuracy curve\n",
        "plt.plot(train_acc, label='Training Accuracy')\n",
        "plt.plot(val_acc, label='Validation Accuracy')\n",
        "plt.title('Training and Validation Accuracy')\n",
        "plt.xlabel('Epoch')\n",
        "plt.ylabel('Accuracy')\n",
        "plt.legend()\n",
        "plt.show()"
      ],
      "metadata": {
        "id": "T6UtqvVObFuH",
        "colab": {
          "base_uri": "https://localhost:8080/",
          "height": 927
        },
        "outputId": "58bda259-7263-4cdd-9f4a-934fe5451e40"
      },
      "execution_count": 20,
      "outputs": [
        {
          "output_type": "display_data",
          "data": {
            "text/plain": [
              "<Figure size 640x480 with 1 Axes>"
            ],
            "image/png": "[encoded data removed]"
          },
          "metadata": {}
        },
        {
          "output_type": "display_data",
          "data": {
            "text/plain": [
              "<Figure size 640x480 with 1 Axes>"
            ],
            "image/png": "[encoded data removed]"
          },
          "metadata": {}
        }
      ]
    },
    {
      "cell_type": "code",
      "source": [
        "import numpy as np\n",
        "from sklearn.metrics import classification_report\n",
        "\n",
        "# Model evaluation on test set (optional)\n",
        "if test_dir:\n",
        "    test_datagen = datagen.flow_from_directory(\n",
        "        test_dir,\n",
        "        target_size=(img_width, img_height),\n",
        "        batch_size=32,\n",
        "        class_mode=\"categorical\"\n",
        "    )\n",
        "    test_loss, test_acc = model.evaluate(test_datagen)\n",
        "    print(\"Test accuracy:\", test_acc)\n",
        "\n",
        "\n",
        "\n",
        "    # Get predictions on test data\n",
        "    model_type = type(model).__name__\n",
        "    if model_type == \"Functional\":\n",
        "        test_predictions = model.predict(test_datagen)\n",
        "        test_predictions = np.argmax(test_predictions, axis=1)\n",
        "    else:\n",
        "        test_predictions = model.predict_classes(test_datagen)\n",
        "\n",
        "    # Get true labels from test data generator\n",
        "    test_labels = test_datagen.classes\n",
        "\n",
        "    # Print classification report\n",
        "    print(classification_report(test_labels, test_predictions))\n",
        "\n",
        "\n"
      ],
      "metadata": {
        "id": "VvJEw77qm_r0",
        "colab": {
          "base_uri": "https://localhost:8080/"
        },
        "outputId": "ab580271-84f4-4606-bcd2-58fb335b88f3"
      },
      "execution_count": 22,
      "outputs": [
        {
          "output_type": "stream",
          "name": "stdout",
          "text": [
            "Found 508 images belonging to 6 classes.\n",
            "16/16 [==============================] - 14s 860ms/step - loss: 1.0042 - accuracy: 0.7283\n",
            "Test accuracy: 0.7283464670181274\n",
            "16/16 [==============================] - 6s 403ms/step\n",
            "              precision    recall  f1-score   support\n",
            "\n",
            "           0       0.11      0.12      0.12        81\n",
            "           1       0.25      0.22      0.23       101\n",
            "           2       0.17      0.18      0.18        82\n",
            "           3       0.27      0.32      0.29       119\n",
            "           4       0.19      0.19      0.19        97\n",
            "           5       0.00      0.00      0.00        28\n",
            "\n",
            "    accuracy                           0.20       508\n",
            "   macro avg       0.17      0.17      0.17       508\n",
            "weighted avg       0.20      0.20      0.20       508\n",
            "\n"
          ]
        }
      ]
    },
    {
      "cell_type": "code",
      "source": [
        "model.summary()"
      ],
      "metadata": {
        "colab": {
          "base_uri": "https://localhost:8080/"
        },
        "id": "aTW0CQsbtcMH",
        "outputId": "1d98c378-f42e-42ef-b865-ab616e775cca"
      },
      "execution_count": 44,
      "outputs": [
        {
          "output_type": "stream",
          "name": "stdout",
          "text": [
            "Model: \"model\"\n",
            "_________________________________________________________________\n",
            " Layer (type)                Output Shape              Param #   \n",
            "=================================================================\n",
            " input_1 (InputLayer)        [(None, 224, 224, 3)]     0         \n",
            "                                                                 \n",
            " block1_conv1 (Conv2D)       (None, 224, 224, 64)      1792      \n",
            "                                                                 \n",
            " block1_conv2 (Conv2D)       (None, 224, 224, 64)      36928     \n",
            "                                                                 \n",
            " block1_pool (MaxPooling2D)  (None, 112, 112, 64)      0         \n",
            "                                                                 \n",
            " block2_conv1 (Conv2D)       (None, 112, 112, 128)     73856     \n",
            "                                                                 \n",
            " block2_conv2 (Conv2D)       (None, 112, 112, 128)     147584    \n",
            "                                                                 \n",
            " block2_pool (MaxPooling2D)  (None, 56, 56, 128)       0         \n",
            "                                                                 \n",
            " block3_conv1 (Conv2D)       (None, 56, 56, 256)       295168    \n",
            "                                                                 \n",
            " block3_conv2 (Conv2D)       (None, 56, 56, 256)       590080    \n",
            "                                                                 \n",
            " block3_conv3 (Conv2D)       (None, 56, 56, 256)       590080    \n",
            "                                                                 \n",
            " block3_pool (MaxPooling2D)  (None, 28, 28, 256)       0         \n",
            "                                                                 \n",
            " block4_conv1 (Conv2D)       (None, 28, 28, 512)       1180160   \n",
            "                                                                 \n",
            " block4_conv2 (Conv2D)       (None, 28, 28, 512)       2359808   \n",
            "                                                                 \n",
            " block4_conv3 (Conv2D)       (None, 28, 28, 512)       2359808   \n",
            "                                                                 \n",
            " block4_pool (MaxPooling2D)  (None, 14, 14, 512)       0         \n",
            "                                                                 \n",
            " block5_conv1 (Conv2D)       (None, 14, 14, 512)       2359808   \n",
            "                                                                 \n",
            " block5_conv2 (Conv2D)       (None, 14, 14, 512)       2359808   \n",
            "                                                                 \n",
            " block5_conv3 (Conv2D)       (None, 14, 14, 512)       2359808   \n",
            "                                                                 \n",
            " block5_pool (MaxPooling2D)  (None, 7, 7, 512)         0         \n",
            "                                                                 \n",
            " flatten_1 (Flatten)         (None, 25088)             0         \n",
            "                                                                 \n",
            " dense_2 (Dense)             (None, 1024)              25691136  \n",
            "                                                                 \n",
            " dense_3 (Dense)             (None, 6)                 6150      \n",
            "                                                                 \n",
            "=================================================================\n",
            "Total params: 40411974 (154.16 MB)\n",
            "Trainable params: 25697286 (98.03 MB)\n",
            "Non-trainable params: 14714688 (56.13 MB)\n",
            "_________________________________________________________________\n"
          ]
        }
      ]
    },
    {
      "cell_type": "code",
      "source": [
        "# Save the model for future use (optional)\n",
        "model.save(\"trash_classifier.h5\")"
      ],
      "metadata": {
        "id": "on-X-ekwUDvA",
        "colab": {
          "base_uri": "https://localhost:8080/"
        },
        "outputId": "42c0424d-f394-4687-ed41-9de48af14ebc"
      },
      "execution_count": 45,
      "outputs": [
        {
          "output_type": "stream",
          "name": "stderr",
          "text": [
            "/usr/local/lib/python3.10/dist-packages/keras/src/engine/training.py:3103: UserWarning: You are saving your model as an HDF5 file via `model.save()`. This file format is considered legacy. We recommend using instead the native Keras format, e.g. `model.save('my_model.keras')`.\n",
            "  saving_api.save_model(\n"
          ]
        }
      ]
    },
    {
      "cell_type": "code",
      "source": [
        "model.save(\"trash_classifier.keras\")"
      ],
      "metadata": {
        "id": "6lOre8M7tpW3"
      },
      "execution_count": 46,
      "outputs": []
    }
  ]
}